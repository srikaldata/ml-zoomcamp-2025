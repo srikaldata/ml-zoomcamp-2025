{
 "cells": [
  {
   "cell_type": "code",
   "execution_count": null,
   "id": "24222d0b",
   "metadata": {},
   "outputs": [],
   "source": [
    "import numpy as np\n",
    "import pandas as pd"
   ]
  }
 ],
 "metadata": {
  "language_info": {
   "name": "python"
  }
 },
 "nbformat": 4,
 "nbformat_minor": 5
}
