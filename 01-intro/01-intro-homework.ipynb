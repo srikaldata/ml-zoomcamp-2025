{
 "cells": [
  {
   "cell_type": "code",
   "execution_count": 1,
   "id": "24222d0b",
   "metadata": {},
   "outputs": [],
   "source": [
    "# importing packages\n",
    "import numpy as np\n",
    "import pandas as pd"
   ]
  },
  {
   "cell_type": "code",
   "execution_count": 2,
   "id": "6c429723",
   "metadata": {},
   "outputs": [
    {
     "data": {
      "text/plain": [
       "'1.5.3'"
      ]
     },
     "execution_count": 2,
     "metadata": {},
     "output_type": "execute_result"
    }
   ],
   "source": [
    "# q1 pandas version\n",
    "pd.__version__"
   ]
  },
  {
   "cell_type": "code",
   "execution_count": 3,
   "id": "7227d927",
   "metadata": {},
   "outputs": [
    {
     "name": "stdout",
     "output_type": "stream",
     "text": [
      "   engine_displacement  num_cylinders  horsepower  vehicle_weight  \\\n",
      "0                  170            3.0       159.0     3413.433759   \n",
      "1                  130            5.0        97.0     3149.664934   \n",
      "2                  170            NaN        78.0     3079.038997   \n",
      "3                  220            4.0         NaN     2542.392402   \n",
      "4                  210            1.0       140.0     3460.870990   \n",
      "\n",
      "   acceleration  model_year  origin fuel_type         drivetrain  num_doors  \\\n",
      "0          17.7        2003  Europe  Gasoline    All-wheel drive        0.0   \n",
      "1          17.8        2007     USA  Gasoline  Front-wheel drive        0.0   \n",
      "2          15.1        2018  Europe  Gasoline  Front-wheel drive        0.0   \n",
      "3          20.2        2009     USA    Diesel    All-wheel drive        2.0   \n",
      "4          14.4        2009  Europe  Gasoline    All-wheel drive        2.0   \n",
      "\n",
      "   fuel_efficiency_mpg  \n",
      "0            13.231729  \n",
      "1            13.688217  \n",
      "2            14.246341  \n",
      "3            16.912736  \n",
      "4            12.488369  \n"
     ]
    },
    {
     "data": {
      "text/plain": [
       "(9704, 11)"
      ]
     },
     "execution_count": 3,
     "metadata": {},
     "output_type": "execute_result"
    }
   ],
   "source": [
    "# q2 records count\n",
    "car_fuel_eff_df = pd.read_csv('car_fuel_efficiency.csv')\n",
    "print(car_fuel_eff_df.head())\n",
    "car_fuel_eff_df.shape"
   ]
  },
  {
   "cell_type": "code",
   "execution_count": 4,
   "id": "99e92226",
   "metadata": {},
   "outputs": [
    {
     "name": "stdout",
     "output_type": "stream",
     "text": [
      "['Gasoline' 'Diesel']\n"
     ]
    }
   ],
   "source": [
    "# q3 fuel types\n",
    "print(car_fuel_eff_df['fuel_type'].unique())"
   ]
  },
  {
   "cell_type": "code",
   "execution_count": 5,
   "id": "4e203266",
   "metadata": {},
   "outputs": [
    {
     "name": "stdout",
     "output_type": "stream",
     "text": [
      "4\n"
     ]
    }
   ],
   "source": [
    "# q4 missing values\n",
    "print((car_fuel_eff_df.isna().sum() > 0).sum())"
   ]
  },
  {
   "cell_type": "code",
   "execution_count": 6,
   "id": "829ec44f",
   "metadata": {},
   "outputs": [
    {
     "data": {
      "text/plain": [
       "23.759122836520497"
      ]
     },
     "execution_count": 6,
     "metadata": {},
     "output_type": "execute_result"
    }
   ],
   "source": [
    "# q5 max fuel efficiency\n",
    "# for cars from asia\n",
    "car_fuel_eff_df[car_fuel_eff_df['origin'] == 'Asia']['fuel_efficiency_mpg'].max()"
   ]
  },
  {
   "cell_type": "code",
   "execution_count": 7,
   "id": "7fbb369c",
   "metadata": {},
   "outputs": [
    {
     "name": "stdout",
     "output_type": "stream",
     "text": [
      "median horsepower (before filling null): 149.0\n",
      "most frequent (mode) horsepower (before filling null): 152.0\n",
      "median horsepower (after filling null): 152.0\n"
     ]
    }
   ],
   "source": [
    "# q6 median value of horsepower\n",
    "# median value of horsepower before and after filling with most frequent value\n",
    "\n",
    "# median horsepower before filling nulls\n",
    "print('median horsepower (before filling null):', car_fuel_eff_df['horsepower'].median())\n",
    "\n",
    "# most frequent value in horsepower column\n",
    "most_freq_horsepower = car_fuel_eff_df['horsepower'].mode()[0]\n",
    "print('most frequent (mode) horsepower (before filling null):', most_freq_horsepower)\n",
    "\n",
    "# fill nulls with most frequent horsepower\n",
    "car_fuel_eff_df['horsepower'] = car_fuel_eff_df['horsepower'].fillna(most_freq_horsepower)\n",
    "\n",
    "# median horsepower after filling nulls\n",
    "print('median horsepower (after filling null):', car_fuel_eff_df['horsepower'].median())"
   ]
  },
  {
   "cell_type": "markdown",
   "id": "6999a519",
   "metadata": {},
   "source": [
    "* Median horsepower has changed from 149.0 to 152.0"
   ]
  }
 ],
 "metadata": {
  "kernelspec": {
   "display_name": "base",
   "language": "python",
   "name": "python3"
  },
  "language_info": {
   "codemirror_mode": {
    "name": "ipython",
    "version": 3
   },
   "file_extension": ".py",
   "mimetype": "text/x-python",
   "name": "python",
   "nbconvert_exporter": "python",
   "pygments_lexer": "ipython3",
   "version": "3.10.9"
  }
 },
 "nbformat": 4,
 "nbformat_minor": 5
}
