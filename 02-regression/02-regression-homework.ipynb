{
 "cells": [
  {
   "cell_type": "code",
   "execution_count": null,
   "id": "9f3c6035",
   "metadata": {},
   "outputs": [],
   "source": [
    "# imoprting packages\n",
    "import numpy as np\n",
    "import pandas as pd\n",
    "import matplotlib.pyplot as plt\n",
    "import seaborn as sns"
   ]
  },
  {
   "cell_type": "code",
   "execution_count": null,
   "id": "d796052c",
   "metadata": {},
   "outputs": [],
   "source": [
    "# importing the data\n",
    "car_fuel_eff_df = pd.read_csv('car_fuel_efficiency.csv')\n",
    "car_fuel_eff_df.head()"
   ]
  },
  {
   "cell_type": "code",
   "execution_count": null,
   "id": "35166d33",
   "metadata": {},
   "outputs": [],
   "source": [
    "# normalizing string columns values - lowercase & replacing spaces with underscores\n",
    "object_cols = car_fuel_eff_df.dtypes[car_fuel_eff_df.dtypes == 'object'].index\n",
    "car_fuel_eff_df[object_cols] = car_fuel_eff_df[object_cols].apply(lambda val: val.str.lower().str.replace(' ', '_'))\n",
    "\n",
    "car_fuel_eff_df.head()"
   ]
  },
  {
   "cell_type": "code",
   "execution_count": null,
   "id": "083bbaee",
   "metadata": {},
   "outputs": [],
   "source": [
    "# data prep for regression\n",
    "# subsetting the needed columns\n",
    "feature_list = ['engine_displacement', 'horsepower', 'vehicle_weight', 'model_year', 'fuel_efficiency_mpg']\n",
    "\n",
    "cfe_reg_df = car_fuel_eff_df[feature_list]\n",
    "\n",
    "cfe_reg_df.head()"
   ]
  },
  {
   "cell_type": "code",
   "execution_count": null,
   "id": "eb1485bc",
   "metadata": {},
   "outputs": [],
   "source": [
    "# exploring the data\n",
    "cfe_reg_df.describe(include='all')"
   ]
  },
  {
   "cell_type": "code",
   "execution_count": null,
   "id": "99558dad",
   "metadata": {},
   "outputs": [],
   "source": [
    "# visualizing the variables\n",
    "cfe_reg_df.hist(figsize=(10, 12), bins=50, edgecolor='black')\n",
    "plt.tight_layout()\n",
    "plt.show()"
   ]
  },
  {
   "cell_type": "code",
   "execution_count": null,
   "id": "7f710cf1",
   "metadata": {},
   "outputs": [],
   "source": [
    "# QUESTION 1\n",
    "# finding column with null values\n",
    "print(cfe_reg_df.isnull().sum())"
   ]
  },
  {
   "cell_type": "code",
   "execution_count": null,
   "id": "c921ffe8",
   "metadata": {},
   "outputs": [],
   "source": [
    "# QUESTION 2\n",
    "print('Median horsepower with null values:', cfe_reg_df['horsepower'].median())"
   ]
  },
  {
   "cell_type": "code",
   "execution_count": null,
   "id": "06796765",
   "metadata": {},
   "outputs": [],
   "source": [
    "# fn for splitting the train test validation sets\n",
    "\n",
    "def split_train_val_test(df, val_prop, test_prop, seed):\n",
    "    # total records\n",
    "    n = len(df)\n",
    "\n",
    "    # train test validation proportions\n",
    "    n_val = int(n*val_prop)\n",
    "    n_test = int(n*test_prop)\n",
    "    n_train = n - (n_val + n_test)\n",
    "    \n",
    "    # creating index\n",
    "    idx = np.arange(n)\n",
    "\n",
    "    # setting a seed and shuffling the index using random shuffle\n",
    "    np.random.seed(seed)\n",
    "    np.random.shuffle(idx)\n",
    "\n",
    "    # splitting the sets\n",
    "    df_train = df.iloc[ idx[:n_train] ]\n",
    "    df_val = df.iloc[ idx[n_train : n_train+n_val] ]\n",
    "    df_test = df.iloc[ idx[n_train+n_val:] ]\n",
    "\n",
    "    # reset indices\n",
    "    df_train = df_train.reset_index(drop=True)\n",
    "    df_val = df_val.reset_index(drop=True)\n",
    "    df_test = df_test.reset_index(drop=True)\n",
    "\n",
    "    return df_train, df_val, df_test"
   ]
  },
  {
   "cell_type": "code",
   "execution_count": null,
   "id": "1ef8c566",
   "metadata": {},
   "outputs": [],
   "source": [
    "# performing the split\n",
    "df_train, df_val, df_test = split_train_val_test(cfe_reg_df, 0.2, 0.2, 42)\n",
    "\n",
    "# number of records in each train val test sets\n",
    "print(len(cfe_reg_df), len(df_train)+len(df_val)+len(df_test))\n",
    "print(len(df_train), len(df_val), len(df_test))\n",
    "print(round(len(df_train)/len(cfe_reg_df),2), round(len(df_val)/len(cfe_reg_df),2), round(len(df_test)/len(cfe_reg_df),2))"
   ]
  },
  {
   "cell_type": "code",
   "execution_count": null,
   "id": "d70f1f68",
   "metadata": {},
   "outputs": [],
   "source": [
    "# subsetting target variables from feature set\n",
    "y_train = df_train.fuel_efficiency_mpg.values\n",
    "y_val = df_val.fuel_efficiency_mpg.values\n",
    "y_test = df_test.fuel_efficiency_mpg.values\n",
    "\n",
    "# removing y variables from train val test dataframes\n",
    "del df_train['fuel_efficiency_mpg']\n",
    "del df_val['fuel_efficiency_mpg']\n",
    "del df_test['fuel_efficiency_mpg']\n",
    "\n",
    "print(df_train.columns)"
   ]
  },
  {
   "cell_type": "code",
   "execution_count": null,
   "id": "888d2642",
   "metadata": {},
   "outputs": [],
   "source": [
    "# fn to train a linear regression model\n",
    "\n",
    "def train_linear_regression(X, y):\n",
    "    \n",
    "    # create column of ones as the 1st col of feature matrix\n",
    "    ones_col = np.ones(X.shape[0]) \n",
    "    X = np.column_stack([ones_col, X])\n",
    "    \n",
    "    # calculate weights (train) using feature matrix\n",
    "    weights_full = np.linalg.inv( X.T.dot( X ) ).dot( X.T ).dot( y )\n",
    "    \n",
    "    return weights_full[0], weights_full[1:]"
   ]
  },
  {
   "cell_type": "code",
   "execution_count": null,
   "id": "2f32ac69",
   "metadata": {},
   "outputs": [],
   "source": [
    "# fn to calculate rmse\n",
    "\n",
    "def rmse(y_actual, y_pred):\n",
    "    \n",
    "    # standard error calc\n",
    "    std_err = (y_actual - y_pred) ** 2\n",
    "    \n",
    "    # mean squared error calc\n",
    "    mse = std_err.mean()\n",
    "    \n",
    "    # rmse\n",
    "    return np.sqrt(mse)"
   ]
  },
  {
   "cell_type": "code",
   "execution_count": null,
   "id": "f1049611",
   "metadata": {},
   "outputs": [],
   "source": [
    "# QUESTION 3\n",
    "\n",
    "# training a lin reg model with horsepower nulls filled with zeroes\n",
    "\n",
    "# filling nulls in horsepower with zeroes\n",
    "X_train_null_zero = df_train[['engine_displacement', 'horsepower', 'vehicle_weight', 'model_year']].fillna(0).values\n",
    "X_val_null_zero = df_val[['engine_displacement', 'horsepower', 'vehicle_weight', 'model_year']].fillna(0).values\n",
    "\n",
    "# training the lin reg model\n",
    "w0, w = train_linear_regression(X_train_null_zero, y_train)\n",
    "\n",
    "# performing predictions on the validation set\n",
    "y_pred_null_zero = w0 + X_val_null_zero.dot(w)\n",
    "\n",
    "# calculating the rmse\n",
    "print('RMSE of lin reg model trained on horsepower nulls filled with zeroes:', round(rmse(y_val, y_pred_null_zero), 4))"
   ]
  },
  {
   "cell_type": "code",
   "execution_count": null,
   "id": "83b7650d",
   "metadata": {},
   "outputs": [],
   "source": [
    "# training a lin reg model with horsepower nulls filled with training horsepower mean\n",
    "\n",
    "# filling nulls in horsepower with training hp mean\n",
    "X_train_null_mean = df_train[['engine_displacement', 'horsepower', 'vehicle_weight', 'model_year']].fillna(df_train['horsepower'].mean()).values\n",
    "X_val_null_mean = df_val[['engine_displacement', 'horsepower', 'vehicle_weight', 'model_year']].fillna(df_train['horsepower'].mean()).values\n",
    "\n",
    "# training the lin reg model\n",
    "w0, w = train_linear_regression(X_train_null_mean, y_train)\n",
    "\n",
    "# performing predictions on the validation set\n",
    "y_pred_null_mean = w0 + X_val_null_mean.dot(w)\n",
    "\n",
    "# calculating the rmse\n",
    "print('RMSE of lin reg model trained on horsepower nulls filled with training horsepower mean:', round(rmse(y_val, y_pred_null_mean), 4))"
   ]
  },
  {
   "cell_type": "markdown",
   "id": "9f57292e",
   "metadata": {},
   "source": [
    "Since, the rmse of HP nulls filled with training hp mean (0.4636) is LESSER than the rmse of HP nulls filled with zeroes (0.5174),\n",
    "\n",
    "the linear regression model with HP filled with training hp mean performs better with more accurate predictions, thus lower RMS error.\n",
    "<br /><br /><br />\n",
    "(IMPORTANT: selecting a model solely based on this difference may not be sustainable. Further investigation is needed)\n",
    "<br /><br /><br />\n",
    "\n"
   ]
  },
  {
   "cell_type": "code",
   "execution_count": null,
   "id": "a66ef999",
   "metadata": {},
   "outputs": [],
   "source": [
    "# custom fn for regularized linear regression\n",
    "def train_lin_reg_regularized(X, y, reg_param=0.001):\n",
    "    \n",
    "    # create column of ones as the 1st col of feature matrix\n",
    "    ones_col = np.ones(X.shape[0]) \n",
    "    X = np.column_stack([ones_col, X])\n",
    "    \n",
    "    # establishing the gram matrix\n",
    "    XTX = X.T.dot( X )\n",
    "    \n",
    "    # introducing regularized param into the leading diagonal of gram matrix\n",
    "    XTX = XTX + reg_param * np.eye(XTX.shape[0])\n",
    "    \n",
    "    # calculate weights (train) using feature matrix\n",
    "    weights_full = np.linalg.inv( XTX ).dot( X.T ).dot( y )\n",
    "    \n",
    "    return weights_full[0], weights_full[1:]"
   ]
  },
  {
   "cell_type": "code",
   "execution_count": null,
   "id": "20051df7",
   "metadata": {},
   "outputs": [],
   "source": [
    "# QUESTION 4\n",
    "\n",
    "rmse_dict = {}\n",
    "reg_param_list = [0, 0.01, 0.1, 1, 5, 10, 100]\n",
    "\n",
    "# loop through the needed \n",
    "for reg_param in reg_param_list:\n",
    "\n",
    "    # filling nulls in horsepower with zeroes\n",
    "    X_train_null_zero = df_train[['engine_displacement', 'horsepower', 'vehicle_weight', 'model_year']].fillna(0).values\n",
    "    X_val_null_zero = df_val[['engine_displacement', 'horsepower', 'vehicle_weight', 'model_year']].fillna(0).values\n",
    "\n",
    "    # training the lin reg model\n",
    "    w0, w = train_lin_reg_regularized(X_train_null_zero, y_train, reg_param)\n",
    "\n",
    "    # performing predictions on the validation set\n",
    "    y_pred_null_zero = w0 + X_val_null_zero.dot(w)\n",
    "\n",
    "    # calculating the rmse\n",
    "    print('RMSE of lin reg model with reg param:', reg_param, '==>', rmse(y_val, y_pred_null_zero))\n",
    "    \n",
    "    # storing all rmses in the dict\n",
    "    rmse_dict[reg_param] = round(rmse(y_val, y_pred_null_zero), 2)\n",
    "    \n",
    "\n",
    "print(rmse_dict)\n",
    "\n",
    "# the best and lowest rmse value, regression parameter tuple \n",
    "print(min(rmse_dict.items(), key=lambda x: x[1]))"
   ]
  },
  {
   "cell_type": "markdown",
   "id": "98cfa445",
   "metadata": {},
   "source": [
    "when rounded off to 2 decimal places, since multiple rmse values for different regression parameters are the same, as per the question, the best and lowest regression parameter value is 0\n",
    "\n",
    "If the rmse values are not rounded off, then the lowest rmse value was generated when regression parameter 0.01 was used"
   ]
  },
  {
   "cell_type": "code",
   "execution_count": null,
   "id": "43cd5b0d",
   "metadata": {},
   "outputs": [],
   "source": [
    "# QUESTION 5\n",
    "\n",
    "seed_list = [0, 1, 2, 3, 4, 5, 6, 7, 8, 9]\n",
    "\n",
    "rmse_list = []\n",
    "\n",
    "# testing all the seeds\n",
    "for seed in seed_list:\n",
    "    \n",
    "    # clearing the dataframes\n",
    "    del df_train\n",
    "    del df_val\n",
    "    del df_test\n",
    "    \n",
    "    # performing the split\n",
    "    df_train, df_val, df_test = split_train_val_test(cfe_reg_df, 0.2, 0.2, seed)\n",
    "\n",
    "    # filling nulls in horsepower with zeroes\n",
    "    X_train_null_zero = df_train[['engine_displacement', 'horsepower', 'vehicle_weight', 'model_year']].fillna(0).values\n",
    "    X_val_null_zero = df_val[['engine_displacement', 'horsepower', 'vehicle_weight', 'model_year']].fillna(0).values\n",
    "    \n",
    "    # subsetting target variables from feature set\n",
    "    y_train = df_train.fuel_efficiency_mpg.values\n",
    "    y_val = df_val.fuel_efficiency_mpg.values\n",
    "    y_test = df_test.fuel_efficiency_mpg.values\n",
    "\n",
    "    # training the lin reg model\n",
    "    w0, w = train_linear_regression(X_train_null_zero, y_train)\n",
    "\n",
    "    # performing predictions on the validation set\n",
    "    y_pred_null_zero = w0 + X_val_null_zero.dot(w)\n",
    "\n",
    "    # calculating the rmse\n",
    "    rmse_list.append(rmse(y_val, y_pred_null_zero))\n",
    "    \n",
    "\n",
    "# rmse scores for different seeds\n",
    "print(rmse_list)\n",
    "print()\n",
    "\n",
    "# standard deviation of the rmse scores for different seeds\n",
    "print('Standard deviation of rmse scores for the given list of seeds:', round(np.std(rmse_list), 3))\n"
   ]
  },
  {
   "cell_type": "code",
   "execution_count": null,
   "id": "17b9cf50",
   "metadata": {},
   "outputs": [],
   "source": [
    "# QUESTION 6\n",
    "\n",
    "# clearing the dataframes\n",
    "del df_train\n",
    "del df_val\n",
    "del df_test\n",
    "\n",
    "# performing the split with seed set 9\n",
    "df_train, df_val, df_test = split_train_val_test(cfe_reg_df, 0.2, 0.2, 9)\n",
    "\n",
    "# filling nulls in horsepower with zeroes\n",
    "df_full_train = pd.concat([df_train, df_val])\n",
    "X_full_train_null_zero = df_full_train[['engine_displacement', 'horsepower', 'vehicle_weight', 'model_year']].fillna(0).values\n",
    "X_test_null_zero = df_test[['engine_displacement', 'horsepower', 'vehicle_weight', 'model_year']].fillna(0).values\n",
    "\n",
    "# subsetting target variables from feature set\n",
    "y_full_train = df_full_train.fuel_efficiency_mpg.values\n",
    "y_test = df_test.fuel_efficiency_mpg.values\n",
    "\n",
    "# training the lin reg model\n",
    "w0, w = train_lin_reg_regularized(X_full_train_null_zero, y_full_train, 0.001)\n",
    "\n",
    "# performing predictions on the validation set\n",
    "y_pred_null_zero = w0 + X_test_null_zero.dot(w)\n",
    "\n",
    "# calculating the rmse\n",
    "print('RMSE of a lin reg model (trained on combined train & val data) with regression parameter 0.01 and tested against test set is:', rmse(y_test, y_pred_null_zero), sep='\\n\\n')"
   ]
  }
 ],
 "metadata": {
  "kernelspec": {
   "display_name": "base",
   "language": "python",
   "name": "python3"
  },
  "language_info": {
   "codemirror_mode": {
    "name": "ipython",
    "version": 3
   },
   "file_extension": ".py",
   "mimetype": "text/x-python",
   "name": "python",
   "nbconvert_exporter": "python",
   "pygments_lexer": "ipython3",
   "version": "3.10.9"
  }
 },
 "nbformat": 4,
 "nbformat_minor": 5
}
