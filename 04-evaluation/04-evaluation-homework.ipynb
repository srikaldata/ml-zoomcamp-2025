{
 "cells": [
  {
   "cell_type": "code",
   "execution_count": null,
   "id": "78f01576",
   "metadata": {},
   "outputs": [],
   "source": [
    "import numpy as np\n",
    "import pandas as pd\n",
    "import matplotlib.pyplot as plt\n",
    "import seaborn as sns\n"
   ]
  },
  {
   "cell_type": "code",
   "execution_count": null,
   "id": "89fc8bf4",
   "metadata": {},
   "outputs": [],
   "source": [
    "# importing the data\n",
    "cls_df = pd.read_csv('course_lead_scoring.csv')\n",
    "cls_df.head()"
   ]
  },
  {
   "cell_type": "code",
   "execution_count": null,
   "id": "85911579",
   "metadata": {},
   "outputs": [],
   "source": [
    "# check if missing values are present\n",
    "cls_df.isna().sum()"
   ]
  },
  {
   "cell_type": "code",
   "execution_count": null,
   "id": "919a6eff",
   "metadata": {},
   "outputs": [],
   "source": [
    "cls_df.info()"
   ]
  },
  {
   "cell_type": "code",
   "execution_count": null,
   "id": "420266a0",
   "metadata": {},
   "outputs": [],
   "source": [
    "# separating categorical and numerical columns\n",
    "cat_cols  = list(cls_df.select_dtypes(include=['object', 'category']).columns)\n",
    "\n",
    "# all num cols except the target col (since target col did not have any null and will be easier for future operations)\n",
    "num_cols = list(cls_df.select_dtypes(include=np.number).columns)\n",
    "num_cols.remove('converted')\n",
    "\n",
    "print(cat_cols, num_cols, sep='\\n\\n')"
   ]
  },
  {
   "cell_type": "code",
   "execution_count": null,
   "id": "ea327168",
   "metadata": {},
   "outputs": [],
   "source": [
    "cls_df.isnull().any()"
   ]
  },
  {
   "cell_type": "code",
   "execution_count": null,
   "id": "dd72242f",
   "metadata": {},
   "outputs": [],
   "source": [
    "# filling nulls of cat and num features\n",
    "\n",
    "for col in cls_df.columns[cls_df.isna().any()]:\n",
    "    \n",
    "    # for cat cols\n",
    "    if col in cat_cols:\n",
    "        print('cat', col)\n",
    "        cls_df[col].fillna('NA', inplace=True)\n",
    "        \n",
    "    # filling num cols\n",
    "    elif col in num_cols:\n",
    "        print('num', col)\n",
    "        cls_df[col].fillna(0.0,inplace=True)\n",
    "        \n",
    "print(cls_df.info())\n",
    "print()\n",
    "print(cls_df.isna().sum())"
   ]
  },
  {
   "cell_type": "code",
   "execution_count": null,
   "id": "464ace51",
   "metadata": {},
   "outputs": [],
   "source": [
    "# splitting data into train 60%, validation 20%, test 20%\n",
    "from sklearn.model_selection import train_test_split\n",
    "\n",
    "df_full_train, df_test = train_test_split(cls_df, test_size=0.2, random_state=1)\n",
    "\n",
    "df_train, df_val = train_test_split(df_full_train, test_size=0.25, random_state=1)\n",
    "\n",
    "# checking the split count and proportion\n",
    "print(len(df_train), len(df_val), len(df_test))\n",
    "print(round(len(df_train)/len(cls_df), 2), round(len(df_val)/len(cls_df), 2), round(len(df_test)/len(cls_df), 2))"
   ]
  },
  {
   "cell_type": "code",
   "execution_count": null,
   "id": "35ecb2a1",
   "metadata": {},
   "outputs": [],
   "source": [
    "# reset indices of the train val test split dataframes\n",
    "df_full_train = df_full_train.reset_index(drop=True)\n",
    "df_train = df_train.reset_index(drop=True)\n",
    "df_val = df_val.reset_index(drop=True)\n",
    "df_test = df_test.reset_index(drop=True)"
   ]
  },
  {
   "cell_type": "code",
   "execution_count": null,
   "id": "c0f8d50a",
   "metadata": {},
   "outputs": [],
   "source": [
    "# extract target variables from the splits\n",
    "y_train = df_train['converted'].values\n",
    "y_val = df_val['converted'].values\n",
    "y_test = df_test['converted'].values"
   ]
  },
  {
   "cell_type": "code",
   "execution_count": null,
   "id": "7038c058",
   "metadata": {},
   "outputs": [],
   "source": [
    "# drop the target vars from the features\n",
    "del df_train['converted']\n",
    "del df_val['converted']\n",
    "del df_test['converted']"
   ]
  },
  {
   "cell_type": "code",
   "execution_count": null,
   "id": "a1120b32",
   "metadata": {},
   "outputs": [],
   "source": [
    "# importing roc auc evaluation metrics\n",
    "from sklearn.metrics import roc_curve\n",
    "from sklearn.metrics import auc\n",
    "from sklearn.metrics import roc_auc_score"
   ]
  },
  {
   "cell_type": "code",
   "execution_count": null,
   "id": "c161347b",
   "metadata": {},
   "outputs": [],
   "source": [
    "# PROBLEM 1\n",
    "\n",
    "auc_num_cols_dict = {}\n",
    "\n",
    "# looping through num features\n",
    "for num_col in num_cols:\n",
    "    auc_num_cols_dict[num_col] = roc_auc_score(y_train, df_train[num_col])\n",
    "\n",
    "print(auc_num_cols_dict)\n",
    "print(auc_num_cols_dict)"
   ]
  },
  {
   "cell_type": "code",
   "execution_count": null,
   "id": "561f7c5a",
   "metadata": {},
   "outputs": [],
   "source": [
    "# check if any feature's auc is below 0.5\n",
    "print({feature: auc_score for feature, auc_score in auc_num_cols_dict.items() if auc_score < 0.5})"
   ]
  },
  {
   "cell_type": "code",
   "execution_count": null,
   "id": "c468f10f",
   "metadata": {},
   "outputs": [],
   "source": [
    "# since none of the values are below sorting the features with highest correlation at the top\n",
    "dict(sorted(auc_num_cols_dict.items(), key=lambda item: item[1], reverse=True))"
   ]
  },
  {
   "cell_type": "markdown",
   "id": "82a13d5f",
   "metadata": {},
   "source": [
    "The numerical variable with highest AUC: number_of_courses_viewed with a score of 0.7635 (approx)"
   ]
  },
  {
   "cell_type": "code",
   "execution_count": null,
   "id": "c6664a41",
   "metadata": {},
   "outputs": [],
   "source": []
  }
 ],
 "metadata": {
  "kernelspec": {
   "display_name": "base",
   "language": "python",
   "name": "python3"
  },
  "language_info": {
   "codemirror_mode": {
    "name": "ipython",
    "version": 3
   },
   "file_extension": ".py",
   "mimetype": "text/x-python",
   "name": "python",
   "nbconvert_exporter": "python",
   "pygments_lexer": "ipython3",
   "version": "3.10.9"
  }
 },
 "nbformat": 4,
 "nbformat_minor": 5
}
